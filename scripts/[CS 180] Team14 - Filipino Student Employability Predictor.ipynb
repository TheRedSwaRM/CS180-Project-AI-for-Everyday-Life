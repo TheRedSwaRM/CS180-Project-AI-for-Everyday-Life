{
 "cells": [
  {
   "cell_type": "code",
   "execution_count": 1,
   "id": "eeebe5e4",
   "metadata": {},
   "outputs": [],
   "source": [
    "###Filipino Student Employability Predictor###"
   ]
  },
  {
   "cell_type": "code",
   "execution_count": 2,
   "id": "e1306d0c",
   "metadata": {},
   "outputs": [
    {
     "data": {
      "text/html": [
       "<div>\n",
       "<style scoped>\n",
       "    .dataframe tbody tr th:only-of-type {\n",
       "        vertical-align: middle;\n",
       "    }\n",
       "\n",
       "    .dataframe tbody tr th {\n",
       "        vertical-align: top;\n",
       "    }\n",
       "\n",
       "    .dataframe thead th {\n",
       "        text-align: right;\n",
       "    }\n",
       "</style>\n",
       "<table border=\"1\" class=\"dataframe\">\n",
       "  <thead>\n",
       "    <tr style=\"text-align: right;\">\n",
       "      <th></th>\n",
       "      <th>GENERAL APPEARANCE</th>\n",
       "      <th>MANNER OF SPEAKING</th>\n",
       "      <th>PHYSICAL CONDITION</th>\n",
       "      <th>MENTAL ALERTNESS</th>\n",
       "      <th>SELF-CONFIDENCE</th>\n",
       "      <th>ABILITY TO PRESENT IDEAS</th>\n",
       "      <th>COMMUNICATION SKILLS</th>\n",
       "      <th>Student Performance Rating</th>\n",
       "      <th>CLASS</th>\n",
       "    </tr>\n",
       "  </thead>\n",
       "  <tbody>\n",
       "    <tr>\n",
       "      <th>0</th>\n",
       "      <td>4</td>\n",
       "      <td>5</td>\n",
       "      <td>4</td>\n",
       "      <td>5</td>\n",
       "      <td>5</td>\n",
       "      <td>5</td>\n",
       "      <td>5</td>\n",
       "      <td>5</td>\n",
       "      <td>Employable</td>\n",
       "    </tr>\n",
       "    <tr>\n",
       "      <th>1</th>\n",
       "      <td>4</td>\n",
       "      <td>4</td>\n",
       "      <td>4</td>\n",
       "      <td>4</td>\n",
       "      <td>4</td>\n",
       "      <td>4</td>\n",
       "      <td>3</td>\n",
       "      <td>5</td>\n",
       "      <td>Employable</td>\n",
       "    </tr>\n",
       "    <tr>\n",
       "      <th>2</th>\n",
       "      <td>4</td>\n",
       "      <td>3</td>\n",
       "      <td>3</td>\n",
       "      <td>3</td>\n",
       "      <td>3</td>\n",
       "      <td>3</td>\n",
       "      <td>2</td>\n",
       "      <td>5</td>\n",
       "      <td>LessEmployable</td>\n",
       "    </tr>\n",
       "    <tr>\n",
       "      <th>3</th>\n",
       "      <td>3</td>\n",
       "      <td>3</td>\n",
       "      <td>3</td>\n",
       "      <td>2</td>\n",
       "      <td>3</td>\n",
       "      <td>3</td>\n",
       "      <td>3</td>\n",
       "      <td>5</td>\n",
       "      <td>LessEmployable</td>\n",
       "    </tr>\n",
       "    <tr>\n",
       "      <th>4</th>\n",
       "      <td>4</td>\n",
       "      <td>4</td>\n",
       "      <td>3</td>\n",
       "      <td>3</td>\n",
       "      <td>4</td>\n",
       "      <td>4</td>\n",
       "      <td>3</td>\n",
       "      <td>5</td>\n",
       "      <td>Employable</td>\n",
       "    </tr>\n",
       "    <tr>\n",
       "      <th>...</th>\n",
       "      <td>...</td>\n",
       "      <td>...</td>\n",
       "      <td>...</td>\n",
       "      <td>...</td>\n",
       "      <td>...</td>\n",
       "      <td>...</td>\n",
       "      <td>...</td>\n",
       "      <td>...</td>\n",
       "      <td>...</td>\n",
       "    </tr>\n",
       "    <tr>\n",
       "      <th>2977</th>\n",
       "      <td>4</td>\n",
       "      <td>3</td>\n",
       "      <td>3</td>\n",
       "      <td>3</td>\n",
       "      <td>3</td>\n",
       "      <td>3</td>\n",
       "      <td>2</td>\n",
       "      <td>5</td>\n",
       "      <td>Employable</td>\n",
       "    </tr>\n",
       "    <tr>\n",
       "      <th>2978</th>\n",
       "      <td>3</td>\n",
       "      <td>4</td>\n",
       "      <td>4</td>\n",
       "      <td>4</td>\n",
       "      <td>4</td>\n",
       "      <td>4</td>\n",
       "      <td>4</td>\n",
       "      <td>5</td>\n",
       "      <td>Employable</td>\n",
       "    </tr>\n",
       "    <tr>\n",
       "      <th>2979</th>\n",
       "      <td>4</td>\n",
       "      <td>5</td>\n",
       "      <td>4</td>\n",
       "      <td>5</td>\n",
       "      <td>4</td>\n",
       "      <td>4</td>\n",
       "      <td>4</td>\n",
       "      <td>5</td>\n",
       "      <td>Employable</td>\n",
       "    </tr>\n",
       "    <tr>\n",
       "      <th>2980</th>\n",
       "      <td>4</td>\n",
       "      <td>4</td>\n",
       "      <td>4</td>\n",
       "      <td>3</td>\n",
       "      <td>4</td>\n",
       "      <td>4</td>\n",
       "      <td>3</td>\n",
       "      <td>5</td>\n",
       "      <td>LessEmployable</td>\n",
       "    </tr>\n",
       "    <tr>\n",
       "      <th>2981</th>\n",
       "      <td>4</td>\n",
       "      <td>4</td>\n",
       "      <td>4</td>\n",
       "      <td>4</td>\n",
       "      <td>3</td>\n",
       "      <td>4</td>\n",
       "      <td>4</td>\n",
       "      <td>5</td>\n",
       "      <td>Employable</td>\n",
       "    </tr>\n",
       "  </tbody>\n",
       "</table>\n",
       "<p>2982 rows × 9 columns</p>\n",
       "</div>"
      ],
      "text/plain": [
       "      GENERAL APPEARANCE  MANNER OF SPEAKING  PHYSICAL CONDITION  \\\n",
       "0                      4                   5                   4   \n",
       "1                      4                   4                   4   \n",
       "2                      4                   3                   3   \n",
       "3                      3                   3                   3   \n",
       "4                      4                   4                   3   \n",
       "...                  ...                 ...                 ...   \n",
       "2977                   4                   3                   3   \n",
       "2978                   3                   4                   4   \n",
       "2979                   4                   5                   4   \n",
       "2980                   4                   4                   4   \n",
       "2981                   4                   4                   4   \n",
       "\n",
       "      MENTAL ALERTNESS  SELF-CONFIDENCE  ABILITY TO PRESENT IDEAS  \\\n",
       "0                    5                5                         5   \n",
       "1                    4                4                         4   \n",
       "2                    3                3                         3   \n",
       "3                    2                3                         3   \n",
       "4                    3                4                         4   \n",
       "...                ...              ...                       ...   \n",
       "2977                 3                3                         3   \n",
       "2978                 4                4                         4   \n",
       "2979                 5                4                         4   \n",
       "2980                 3                4                         4   \n",
       "2981                 4                3                         4   \n",
       "\n",
       "      COMMUNICATION SKILLS  Student Performance Rating           CLASS  \n",
       "0                        5                           5      Employable  \n",
       "1                        3                           5      Employable  \n",
       "2                        2                           5  LessEmployable  \n",
       "3                        3                           5  LessEmployable  \n",
       "4                        3                           5      Employable  \n",
       "...                    ...                         ...             ...  \n",
       "2977                     2                           5      Employable  \n",
       "2978                     4                           5      Employable  \n",
       "2979                     4                           5      Employable  \n",
       "2980                     3                           5  LessEmployable  \n",
       "2981                     4                           5      Employable  \n",
       "\n",
       "[2982 rows x 9 columns]"
      ]
     },
     "execution_count": 2,
     "metadata": {},
     "output_type": "execute_result"
    }
   ],
   "source": [
    "#Import dataset and libraries here\n",
    "import pandas as pd\n",
    "\n",
    "data = pd.read_excel('../data/Student-Employability-Datasets.xlsx')\n",
    "data = data.drop(\"Name of Student\", axis=1)\n",
    "data"
   ]
  },
  {
   "cell_type": "code",
   "execution_count": 3,
   "id": "1c376f92",
   "metadata": {},
   "outputs": [
    {
     "name": "stdout",
     "output_type": "stream",
     "text": [
      "      GENERAL APPEARANCE  MANNER OF SPEAKING  PHYSICAL CONDITION  \\\n",
      "2232                   4                   4                   4   \n",
      "2359                   3                   4                   4   \n",
      "51                     5                   4                   5   \n",
      "1321                   5                   4                   5   \n",
      "1560                   4                   5                   4   \n",
      "...                  ...                 ...                 ...   \n",
      "1976                   5                   5                   4   \n",
      "2336                   4                   4                   4   \n",
      "562                    5                   3                   3   \n",
      "1331                   4                   5                   4   \n",
      "1460                   4                   4                   3   \n",
      "\n",
      "      MENTAL ALERTNESS  SELF-CONFIDENCE  ABILITY TO PRESENT IDEAS  \\\n",
      "2232                 4                4                         4   \n",
      "2359                 4                3                         4   \n",
      "51                   5                5                         4   \n",
      "1321                 5                5                         4   \n",
      "1560                 4                4                         4   \n",
      "...                ...              ...                       ...   \n",
      "1976                 5                4                         5   \n",
      "2336                 4                3                         3   \n",
      "562                  3                3                         3   \n",
      "1331                 4                4                         5   \n",
      "1460                 3                4                         4   \n",
      "\n",
      "      COMMUNICATION SKILLS  Student Performance Rating  \n",
      "2232                     4                           5  \n",
      "2359                     4                           5  \n",
      "51                       4                           5  \n",
      "1321                     4                           5  \n",
      "1560                     4                           5  \n",
      "...                    ...                         ...  \n",
      "1976                     4                           5  \n",
      "2336                     3                           5  \n",
      "562                      3                           4  \n",
      "1331                     4                           5  \n",
      "1460                     3                           5  \n",
      "\n",
      "[2087 rows x 8 columns]\n"
     ]
    }
   ],
   "source": [
    "#Preprocess/prepare dataset for training and testing here\n",
    "from sklearn.model_selection import train_test_split\n",
    "x = data.drop('CLASS', axis = 1)\n",
    "y = data['CLASS']\n",
    "\n",
    "# print(x)\n",
    "# print(y)\n",
    "\n",
    "#70% training and 30% testing\n",
    "x_train, x_test, y_train, y_test = train_test_split(x,y,train_size=0.7)\n",
    "print(x_train)"
   ]
  },
  {
   "cell_type": "code",
   "execution_count": 4,
   "id": "6492b96a",
   "metadata": {},
   "outputs": [
    {
     "data": {
      "text/plain": [
       "array([[ 0.33333333,  0.33333333,  0.33333333, ...,  0.33333333,\n",
       "         0.33333333,  1.        ],\n",
       "       [-0.33333333,  0.33333333,  0.33333333, ...,  0.33333333,\n",
       "         0.33333333,  1.        ],\n",
       "       [ 1.        ,  0.33333333,  1.        , ...,  0.33333333,\n",
       "         0.33333333,  1.        ],\n",
       "       ...,\n",
       "       [ 1.        , -0.33333333, -0.33333333, ..., -0.33333333,\n",
       "        -0.33333333,  0.        ],\n",
       "       [ 0.33333333,  1.        ,  0.33333333, ...,  1.        ,\n",
       "         0.33333333,  1.        ],\n",
       "       [ 0.33333333,  0.33333333, -0.33333333, ...,  0.33333333,\n",
       "        -0.33333333,  1.        ]])"
      ]
     },
     "execution_count": 4,
     "metadata": {},
     "output_type": "execute_result"
    }
   ],
   "source": [
    "#Normalize train and test sets for MLP\n",
    "from sklearn.preprocessing import MinMaxScaler\n",
    "\n",
    "#Sigmoid activation\n",
    "#scaler = MinMaxScaler(feature_range=(0,1))\n",
    "\n",
    "#TANH activation\n",
    "scaler = MinMaxScaler(feature_range=(-1,1))\n",
    "\n",
    "x_train = scaler.fit_transform(x_train)\n",
    "x_test = scaler.transform(x_test)\n",
    "x_train"
   ]
  },
  {
   "cell_type": "code",
   "execution_count": 5,
   "id": "a7b9de12",
   "metadata": {},
   "outputs": [
    {
     "name": "stderr",
     "output_type": "stream",
     "text": [
      "C:\\Users\\Ram\\anaconda3\\lib\\site-packages\\sklearn\\neural_network\\_multilayer_perceptron.py:684: ConvergenceWarning: Stochastic Optimizer: Maximum iterations (200) reached and the optimization hasn't converged yet.\n",
      "  warnings.warn(\n"
     ]
    },
    {
     "data": {
      "text/html": [
       "<style>#sk-container-id-1 {color: black;background-color: white;}#sk-container-id-1 pre{padding: 0;}#sk-container-id-1 div.sk-toggleable {background-color: white;}#sk-container-id-1 label.sk-toggleable__label {cursor: pointer;display: block;width: 100%;margin-bottom: 0;padding: 0.3em;box-sizing: border-box;text-align: center;}#sk-container-id-1 label.sk-toggleable__label-arrow:before {content: \"▸\";float: left;margin-right: 0.25em;color: #696969;}#sk-container-id-1 label.sk-toggleable__label-arrow:hover:before {color: black;}#sk-container-id-1 div.sk-estimator:hover label.sk-toggleable__label-arrow:before {color: black;}#sk-container-id-1 div.sk-toggleable__content {max-height: 0;max-width: 0;overflow: hidden;text-align: left;background-color: #f0f8ff;}#sk-container-id-1 div.sk-toggleable__content pre {margin: 0.2em;color: black;border-radius: 0.25em;background-color: #f0f8ff;}#sk-container-id-1 input.sk-toggleable__control:checked~div.sk-toggleable__content {max-height: 200px;max-width: 100%;overflow: auto;}#sk-container-id-1 input.sk-toggleable__control:checked~label.sk-toggleable__label-arrow:before {content: \"▾\";}#sk-container-id-1 div.sk-estimator input.sk-toggleable__control:checked~label.sk-toggleable__label {background-color: #d4ebff;}#sk-container-id-1 div.sk-label input.sk-toggleable__control:checked~label.sk-toggleable__label {background-color: #d4ebff;}#sk-container-id-1 input.sk-hidden--visually {border: 0;clip: rect(1px 1px 1px 1px);clip: rect(1px, 1px, 1px, 1px);height: 1px;margin: -1px;overflow: hidden;padding: 0;position: absolute;width: 1px;}#sk-container-id-1 div.sk-estimator {font-family: monospace;background-color: #f0f8ff;border: 1px dotted black;border-radius: 0.25em;box-sizing: border-box;margin-bottom: 0.5em;}#sk-container-id-1 div.sk-estimator:hover {background-color: #d4ebff;}#sk-container-id-1 div.sk-parallel-item::after {content: \"\";width: 100%;border-bottom: 1px solid gray;flex-grow: 1;}#sk-container-id-1 div.sk-label:hover label.sk-toggleable__label {background-color: #d4ebff;}#sk-container-id-1 div.sk-serial::before {content: \"\";position: absolute;border-left: 1px solid gray;box-sizing: border-box;top: 0;bottom: 0;left: 50%;z-index: 0;}#sk-container-id-1 div.sk-serial {display: flex;flex-direction: column;align-items: center;background-color: white;padding-right: 0.2em;padding-left: 0.2em;position: relative;}#sk-container-id-1 div.sk-item {position: relative;z-index: 1;}#sk-container-id-1 div.sk-parallel {display: flex;align-items: stretch;justify-content: center;background-color: white;position: relative;}#sk-container-id-1 div.sk-item::before, #sk-container-id-1 div.sk-parallel-item::before {content: \"\";position: absolute;border-left: 1px solid gray;box-sizing: border-box;top: 0;bottom: 0;left: 50%;z-index: -1;}#sk-container-id-1 div.sk-parallel-item {display: flex;flex-direction: column;z-index: 1;position: relative;background-color: white;}#sk-container-id-1 div.sk-parallel-item:first-child::after {align-self: flex-end;width: 50%;}#sk-container-id-1 div.sk-parallel-item:last-child::after {align-self: flex-start;width: 50%;}#sk-container-id-1 div.sk-parallel-item:only-child::after {width: 0;}#sk-container-id-1 div.sk-dashed-wrapped {border: 1px dashed gray;margin: 0 0.4em 0.5em 0.4em;box-sizing: border-box;padding-bottom: 0.4em;background-color: white;}#sk-container-id-1 div.sk-label label {font-family: monospace;font-weight: bold;display: inline-block;line-height: 1.2em;}#sk-container-id-1 div.sk-label-container {text-align: center;}#sk-container-id-1 div.sk-container {/* jupyter's `normalize.less` sets `[hidden] { display: none; }` but bootstrap.min.css set `[hidden] { display: none !important; }` so we also need the `!important` here to be able to override the default hidden behavior on the sphinx rendered scikit-learn.org. See: https://github.com/scikit-learn/scikit-learn/issues/21755 */display: inline-block !important;position: relative;}#sk-container-id-1 div.sk-text-repr-fallback {display: none;}</style><div id=\"sk-container-id-1\" class=\"sk-top-container\"><div class=\"sk-text-repr-fallback\"><pre>GridSearchCV(estimator=MLPClassifier(activation=&#x27;tanh&#x27;),\n",
       "             param_grid={&#x27;hidden_layer_sizes&#x27;: [5, 6, 7, 8],\n",
       "                         &#x27;learning_rate_init&#x27;: [0.1, 0.075, 0.05, 0.025, 0.01],\n",
       "                         &#x27;max_iter&#x27;: [20000, 30000, 40000]})</pre><b>In a Jupyter environment, please rerun this cell to show the HTML representation or trust the notebook. <br />On GitHub, the HTML representation is unable to render, please try loading this page with nbviewer.org.</b></div><div class=\"sk-container\" hidden><div class=\"sk-item sk-dashed-wrapped\"><div class=\"sk-label-container\"><div class=\"sk-label sk-toggleable\"><input class=\"sk-toggleable__control sk-hidden--visually\" id=\"sk-estimator-id-1\" type=\"checkbox\" ><label for=\"sk-estimator-id-1\" class=\"sk-toggleable__label sk-toggleable__label-arrow\">GridSearchCV</label><div class=\"sk-toggleable__content\"><pre>GridSearchCV(estimator=MLPClassifier(activation=&#x27;tanh&#x27;),\n",
       "             param_grid={&#x27;hidden_layer_sizes&#x27;: [5, 6, 7, 8],\n",
       "                         &#x27;learning_rate_init&#x27;: [0.1, 0.075, 0.05, 0.025, 0.01],\n",
       "                         &#x27;max_iter&#x27;: [20000, 30000, 40000]})</pre></div></div></div><div class=\"sk-parallel\"><div class=\"sk-parallel-item\"><div class=\"sk-item\"><div class=\"sk-label-container\"><div class=\"sk-label sk-toggleable\"><input class=\"sk-toggleable__control sk-hidden--visually\" id=\"sk-estimator-id-2\" type=\"checkbox\" ><label for=\"sk-estimator-id-2\" class=\"sk-toggleable__label sk-toggleable__label-arrow\">estimator: MLPClassifier</label><div class=\"sk-toggleable__content\"><pre>MLPClassifier(activation=&#x27;tanh&#x27;)</pre></div></div></div><div class=\"sk-serial\"><div class=\"sk-item\"><div class=\"sk-estimator sk-toggleable\"><input class=\"sk-toggleable__control sk-hidden--visually\" id=\"sk-estimator-id-3\" type=\"checkbox\" ><label for=\"sk-estimator-id-3\" class=\"sk-toggleable__label sk-toggleable__label-arrow\">MLPClassifier</label><div class=\"sk-toggleable__content\"><pre>MLPClassifier(activation=&#x27;tanh&#x27;)</pre></div></div></div></div></div></div></div></div></div></div>"
      ],
      "text/plain": [
       "GridSearchCV(estimator=MLPClassifier(activation='tanh'),\n",
       "             param_grid={'hidden_layer_sizes': [5, 6, 7, 8],\n",
       "                         'learning_rate_init': [0.1, 0.075, 0.05, 0.025, 0.01],\n",
       "                         'max_iter': [20000, 30000, 40000]})"
      ]
     },
     "execution_count": 5,
     "metadata": {},
     "output_type": "execute_result"
    }
   ],
   "source": [
    "#Fit and hyperparametrize model here\n",
    "from sklearn.neural_network import MLPClassifier\n",
    "from sklearn.model_selection import GridSearchCV\n",
    "\n",
    "mlp = MLPClassifier(activation='tanh')\n",
    "mlp.fit(x_train,y_train)\n",
    "\n",
    "param_grid = {'hidden_layer_sizes': [5,6,7,8], 'max_iter': [20000, 30000, 40000], 'learning_rate_init': [0.1, 0.075,0.05, 0.025, 0.01]} \n",
    "grid = GridSearchCV(mlp,param_grid,refit=True)\n",
    "grid.fit(x_train,y_train)"
   ]
  },
  {
   "cell_type": "code",
   "execution_count": 6,
   "id": "325ddf36",
   "metadata": {},
   "outputs": [
    {
     "name": "stdout",
     "output_type": "stream",
     "text": [
      "{'hidden_layer_sizes': 8, 'learning_rate_init': 0.025, 'max_iter': 30000}\n",
      "['Employable' 'LessEmployable']\n",
      "0.9005586592178771\n"
     ]
    },
    {
     "data": {
      "text/plain": [
       "Text(113.9222222222222, 0.5, 'true value')"
      ]
     },
     "execution_count": 6,
     "metadata": {},
     "output_type": "execute_result"
    },
    {
     "data": {
      "image/png": "[encoded data removed]",
      "text/plain": [
       "<Figure size 640x480 with 1 Axes>"
      ]
     },
     "metadata": {},
     "output_type": "display_data"
    }
   ],
   "source": [
    "#Predict and display statistics of model here \n",
    "# predictions = mlp.predict(x_test)\n",
    "print(grid.best_params_)\n",
    "print(grid.classes_)\n",
    "\n",
    "grid_predictions = grid.predict(x_test)\n",
    "\n",
    "from sklearn.metrics import accuracy_score\n",
    "print(accuracy_score(y_test, grid_predictions))\n",
    "\n",
    "from sklearn.metrics import classification_report,confusion_matrix\n",
    "import seaborn as sns\n",
    "import matplotlib.pyplot as plt\n",
    "\n",
    "mat = confusion_matrix(y_test, grid_predictions)\n",
    "sns.heatmap(mat, square = True, annot = True, cbar = False)\n",
    "plt.xlabel('predicted value')\n",
    "plt.ylabel('true value')"
   ]
  },
  {
   "cell_type": "code",
   "execution_count": 14,
   "id": "9bdc5fd3",
   "metadata": {},
   "outputs": [
    {
     "name": "stdout",
     "output_type": "stream",
     "text": [
      "{'hidden_layer_sizes': 8, 'learning_rate_init': 0.025, 'max_iter': 30000}\n",
      "0.9005586592178771\n"
     ]
    }
   ],
   "source": [
    "# Save model here and test if it still works\n",
    "\n",
    "import pickle\n",
    "\n",
    "saved_model = 'best_MLP_model_for_now.sav'\n",
    "pickle.dump(grid, open(saved_model, 'wb'))\n",
    "\n",
    "# Test if model works and predict again\n",
    "loaded_model = pickle.load(open(saved_model, 'rb'))\n",
    "print(loaded_model.best_params_)\n",
    "predict_again = loaded_model.predict(x_test)\n",
    "# print(predict_again)\n",
    "# print(y_test)\n",
    "print(accuracy_score(y_test, predict_again))"
   ]
  },
  {
   "cell_type": "code",
   "execution_count": null,
   "id": "8118920a",
   "metadata": {},
   "outputs": [],
   "source": []
  }
 ],
 "metadata": {
  "kernelspec": {
   "display_name": "Python 3 (ipykernel)",
   "language": "python",
   "name": "python3"
  },
  "language_info": {
   "codemirror_mode": {
    "name": "ipython",
    "version": 3
   },
   "file_extension": ".py",
   "mimetype": "text/x-python",
   "name": "python",
   "nbconvert_exporter": "python",
   "pygments_lexer": "ipython3",
   "version": "3.10.9"
  },
  "vscode": {
   "interpreter": {
    "hash": "5238573367df39f7286bb46f9ff5f08f63a01a80960060ce41e3c79b190280fa"
   }
  }
 },
 "nbformat": 4,
 "nbformat_minor": 5
}
