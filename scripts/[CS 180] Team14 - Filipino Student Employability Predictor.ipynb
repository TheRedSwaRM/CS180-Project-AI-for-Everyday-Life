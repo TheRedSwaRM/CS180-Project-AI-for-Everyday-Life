{
 "cells": [
  {
   "attachments": {},
   "cell_type": "markdown",
   "id": "b48693f5",
   "metadata": {},
   "source": [
    "# CS180 Project: Filipino Student Employability Predictor\n",
    "\n",
    "##### This is a course requirement submitted by Group # 14 for CS180 Artificial Intelligence Course of the Department of Computer Science, College of Engineering, University of the Philippines, Diliman under the guidance of Sir Carlo Raquel for AY 2022-2023.\n",
    "\n",
    "##### The dataset entitled 'Students' Employability Dataset - Philippines' can be found <a href=\"https://www.kaggle.com/datasets/anashamoutni/students-employability-dataset\" target=\"_blank\">here</a>."
   ]
  },
  {
   "attachments": {},
   "cell_type": "markdown",
   "id": "077352ed",
   "metadata": {},
   "source": [
    "# Part 1: Importing the Dataset\n",
    "\n",
    "\n",
    "##### We will be using the Student-Employability-Datasets.xlsx dataset, which classifies whether a student is **Employable** or **LessEmployable**, given a set of criteria. We will be utilizing binary encoding to map the category Employable to 1, and LessEmployable to 0."
   ]
  },
  {
   "cell_type": "code",
   "execution_count": 12,
   "id": "82c3d602",
   "metadata": {},
   "outputs": [
    {
     "data": {
      "text/html": [
       "<div>\n",
       "<style scoped>\n",
       "    .dataframe tbody tr th:only-of-type {\n",
       "        vertical-align: middle;\n",
       "    }\n",
       "\n",
       "    .dataframe tbody tr th {\n",
       "        vertical-align: top;\n",
       "    }\n",
       "\n",
       "    .dataframe thead th {\n",
       "        text-align: right;\n",
       "    }\n",
       "</style>\n",
       "<table border=\"1\" class=\"dataframe\">\n",
       "  <thead>\n",
       "    <tr style=\"text-align: right;\">\n",
       "      <th></th>\n",
       "      <th>GENERAL APPEARANCE</th>\n",
       "      <th>MANNER OF SPEAKING</th>\n",
       "      <th>PHYSICAL CONDITION</th>\n",
       "      <th>MENTAL ALERTNESS</th>\n",
       "      <th>SELF-CONFIDENCE</th>\n",
       "      <th>ABILITY TO PRESENT IDEAS</th>\n",
       "      <th>COMMUNICATION SKILLS</th>\n",
       "      <th>Student Performance Rating</th>\n",
       "      <th>CLASS</th>\n",
       "    </tr>\n",
       "  </thead>\n",
       "  <tbody>\n",
       "    <tr>\n",
       "      <th>0</th>\n",
       "      <td>4</td>\n",
       "      <td>5</td>\n",
       "      <td>4</td>\n",
       "      <td>5</td>\n",
       "      <td>5</td>\n",
       "      <td>5</td>\n",
       "      <td>5</td>\n",
       "      <td>5</td>\n",
       "      <td>1</td>\n",
       "    </tr>\n",
       "    <tr>\n",
       "      <th>1</th>\n",
       "      <td>4</td>\n",
       "      <td>4</td>\n",
       "      <td>4</td>\n",
       "      <td>4</td>\n",
       "      <td>4</td>\n",
       "      <td>4</td>\n",
       "      <td>3</td>\n",
       "      <td>5</td>\n",
       "      <td>1</td>\n",
       "    </tr>\n",
       "    <tr>\n",
       "      <th>2</th>\n",
       "      <td>4</td>\n",
       "      <td>3</td>\n",
       "      <td>3</td>\n",
       "      <td>3</td>\n",
       "      <td>3</td>\n",
       "      <td>3</td>\n",
       "      <td>2</td>\n",
       "      <td>5</td>\n",
       "      <td>0</td>\n",
       "    </tr>\n",
       "    <tr>\n",
       "      <th>3</th>\n",
       "      <td>3</td>\n",
       "      <td>3</td>\n",
       "      <td>3</td>\n",
       "      <td>2</td>\n",
       "      <td>3</td>\n",
       "      <td>3</td>\n",
       "      <td>3</td>\n",
       "      <td>5</td>\n",
       "      <td>0</td>\n",
       "    </tr>\n",
       "    <tr>\n",
       "      <th>4</th>\n",
       "      <td>4</td>\n",
       "      <td>4</td>\n",
       "      <td>3</td>\n",
       "      <td>3</td>\n",
       "      <td>4</td>\n",
       "      <td>4</td>\n",
       "      <td>3</td>\n",
       "      <td>5</td>\n",
       "      <td>1</td>\n",
       "    </tr>\n",
       "    <tr>\n",
       "      <th>...</th>\n",
       "      <td>...</td>\n",
       "      <td>...</td>\n",
       "      <td>...</td>\n",
       "      <td>...</td>\n",
       "      <td>...</td>\n",
       "      <td>...</td>\n",
       "      <td>...</td>\n",
       "      <td>...</td>\n",
       "      <td>...</td>\n",
       "    </tr>\n",
       "    <tr>\n",
       "      <th>2977</th>\n",
       "      <td>4</td>\n",
       "      <td>3</td>\n",
       "      <td>3</td>\n",
       "      <td>3</td>\n",
       "      <td>3</td>\n",
       "      <td>3</td>\n",
       "      <td>2</td>\n",
       "      <td>5</td>\n",
       "      <td>1</td>\n",
       "    </tr>\n",
       "    <tr>\n",
       "      <th>2978</th>\n",
       "      <td>3</td>\n",
       "      <td>4</td>\n",
       "      <td>4</td>\n",
       "      <td>4</td>\n",
       "      <td>4</td>\n",
       "      <td>4</td>\n",
       "      <td>4</td>\n",
       "      <td>5</td>\n",
       "      <td>1</td>\n",
       "    </tr>\n",
       "    <tr>\n",
       "      <th>2979</th>\n",
       "      <td>4</td>\n",
       "      <td>5</td>\n",
       "      <td>4</td>\n",
       "      <td>5</td>\n",
       "      <td>4</td>\n",
       "      <td>4</td>\n",
       "      <td>4</td>\n",
       "      <td>5</td>\n",
       "      <td>1</td>\n",
       "    </tr>\n",
       "    <tr>\n",
       "      <th>2980</th>\n",
       "      <td>4</td>\n",
       "      <td>4</td>\n",
       "      <td>4</td>\n",
       "      <td>3</td>\n",
       "      <td>4</td>\n",
       "      <td>4</td>\n",
       "      <td>3</td>\n",
       "      <td>5</td>\n",
       "      <td>0</td>\n",
       "    </tr>\n",
       "    <tr>\n",
       "      <th>2981</th>\n",
       "      <td>4</td>\n",
       "      <td>4</td>\n",
       "      <td>4</td>\n",
       "      <td>4</td>\n",
       "      <td>3</td>\n",
       "      <td>4</td>\n",
       "      <td>4</td>\n",
       "      <td>5</td>\n",
       "      <td>1</td>\n",
       "    </tr>\n",
       "  </tbody>\n",
       "</table>\n",
       "<p>2982 rows × 9 columns</p>\n",
       "</div>"
      ],
      "text/plain": [
       "      GENERAL APPEARANCE  MANNER OF SPEAKING  PHYSICAL CONDITION  \\\n",
       "0                      4                   5                   4   \n",
       "1                      4                   4                   4   \n",
       "2                      4                   3                   3   \n",
       "3                      3                   3                   3   \n",
       "4                      4                   4                   3   \n",
       "...                  ...                 ...                 ...   \n",
       "2977                   4                   3                   3   \n",
       "2978                   3                   4                   4   \n",
       "2979                   4                   5                   4   \n",
       "2980                   4                   4                   4   \n",
       "2981                   4                   4                   4   \n",
       "\n",
       "      MENTAL ALERTNESS  SELF-CONFIDENCE  ABILITY TO PRESENT IDEAS  \\\n",
       "0                    5                5                         5   \n",
       "1                    4                4                         4   \n",
       "2                    3                3                         3   \n",
       "3                    2                3                         3   \n",
       "4                    3                4                         4   \n",
       "...                ...              ...                       ...   \n",
       "2977                 3                3                         3   \n",
       "2978                 4                4                         4   \n",
       "2979                 5                4                         4   \n",
       "2980                 3                4                         4   \n",
       "2981                 4                3                         4   \n",
       "\n",
       "      COMMUNICATION SKILLS  Student Performance Rating  CLASS  \n",
       "0                        5                           5      1  \n",
       "1                        3                           5      1  \n",
       "2                        2                           5      0  \n",
       "3                        3                           5      0  \n",
       "4                        3                           5      1  \n",
       "...                    ...                         ...    ...  \n",
       "2977                     2                           5      1  \n",
       "2978                     4                           5      1  \n",
       "2979                     4                           5      1  \n",
       "2980                     3                           5      0  \n",
       "2981                     4                           5      1  \n",
       "\n",
       "[2982 rows x 9 columns]"
      ]
     },
     "execution_count": 12,
     "metadata": {},
     "output_type": "execute_result"
    }
   ],
   "source": [
    "# Import dataset and libraries here\n",
    "import pandas as pd\n",
    "import numpy as np\n",
    "\n",
    "data = pd.read_excel('../data/Student-Employability-Datasets.xlsx')\n",
    "\n",
    "# Remove the 'Name of Student' column, for it is not needed\n",
    "data = data.drop(\"Name of Student\", axis=1)\n",
    "\n",
    "# Binary Encoding\n",
    "data['CLASS'] = data['CLASS'].map({'LessEmployable': 0, 'Employable': 1})\n",
    "\n",
    "data"
   ]
  },
  {
   "attachments": {},
   "cell_type": "markdown",
   "id": "e51a4617",
   "metadata": {},
   "source": [
    "# Part 2: Data Preprocessing\n",
    "\n",
    "##### The classifier requires a training set and a test set. For each set, the column containing the student employability label must be separated from the criteria data, so that the label will not be affect by the normalization. We will be separating the dataset into a features matrix and a target matrix.\n",
    "\n"
   ]
  },
  {
   "cell_type": "code",
   "execution_count": 13,
   "id": "3f08e92e",
   "metadata": {},
   "outputs": [
    {
     "data": {
      "text/plain": [
       "array([[4, 5, 4, ..., 5, 5, 5],\n",
       "       [4, 4, 4, ..., 4, 3, 5],\n",
       "       [4, 3, 3, ..., 3, 2, 5],\n",
       "       ...,\n",
       "       [4, 5, 4, ..., 4, 4, 5],\n",
       "       [4, 4, 4, ..., 4, 3, 5],\n",
       "       [4, 4, 4, ..., 4, 4, 5]], dtype=int64)"
      ]
     },
     "execution_count": 13,
     "metadata": {},
     "output_type": "execute_result"
    }
   ],
   "source": [
    "# Features matrix - the 8 criteria of student employability\n",
    "x = data.drop('CLASS', axis = 1).values\n",
    "x"
   ]
  },
  {
   "cell_type": "code",
   "execution_count": 14,
   "id": "569bb9ac",
   "metadata": {},
   "outputs": [
    {
     "data": {
      "text/plain": [
       "array([1, 1, 0, ..., 1, 0, 1], dtype=int64)"
      ]
     },
     "execution_count": 14,
     "metadata": {},
     "output_type": "execute_result"
    }
   ],
   "source": [
    "# Target matrix - The student employability label\n",
    "y = data['CLASS'].values\n",
    "y"
   ]
  },
  {
   "attachments": {},
   "cell_type": "markdown",
   "id": "fb655529",
   "metadata": {},
   "source": [
    "# Part 3: Splitting the Data in Training and Testing Sets\n",
    "\n",
    "##### Now that the data preprocessing is done, it is time to proceed with the splitting of the data into training and testing sets. We would be utilizing 70% of the data as training sets, and 30% of the data as testing sets.\n",
    "\n"
   ]
  },
  {
   "cell_type": "code",
   "execution_count": 15,
   "id": "ae83094e",
   "metadata": {},
   "outputs": [
    {
     "data": {
      "text/plain": [
       "array([[5, 5, 5, ..., 5, 3, 5],\n",
       "       [4, 4, 4, ..., 3, 3, 3],\n",
       "       [5, 4, 4, ..., 4, 4, 4],\n",
       "       ...,\n",
       "       [4, 3, 4, ..., 3, 3, 5],\n",
       "       [4, 3, 4, ..., 3, 3, 5],\n",
       "       [5, 4, 5, ..., 4, 4, 4]], dtype=int64)"
      ]
     },
     "execution_count": 15,
     "metadata": {},
     "output_type": "execute_result"
    }
   ],
   "source": [
    "from sklearn.model_selection import train_test_split\n",
    "\n",
    "# Set a seed for data reproducibility\n",
    "np.random.seed(321)\n",
    "\n",
    "x_train, x_test, y_train, y_test = train_test_split(x,y,train_size=0.7)\n",
    "x_train"
   ]
  },
  {
   "attachments": {},
   "cell_type": "markdown",
   "id": "99340e01",
   "metadata": {},
   "source": [
    "# Part 4: Data Normalization for MLP\n",
    "\n",
    "##### Before the actual learning process begins, the data should be normalized first, for the multilayer perceptron to work optimally.\n",
    "\n"
   ]
  },
  {
   "cell_type": "code",
   "execution_count": 16,
   "id": "e8174b7c",
   "metadata": {},
   "outputs": [
    {
     "data": {
      "text/plain": [
       "array([[ 1.        ,  1.        ,  1.        , ...,  1.        ,\n",
       "        -0.33333333,  1.        ],\n",
       "       [ 0.33333333,  0.33333333,  0.33333333, ..., -0.33333333,\n",
       "        -0.33333333, -1.        ],\n",
       "       [ 1.        ,  0.33333333,  0.33333333, ...,  0.33333333,\n",
       "         0.33333333,  0.        ],\n",
       "       ...,\n",
       "       [ 0.33333333, -0.33333333,  0.33333333, ..., -0.33333333,\n",
       "        -0.33333333,  1.        ],\n",
       "       [ 0.33333333, -0.33333333,  0.33333333, ..., -0.33333333,\n",
       "        -0.33333333,  1.        ],\n",
       "       [ 1.        ,  0.33333333,  1.        , ...,  0.33333333,\n",
       "         0.33333333,  0.        ]])"
      ]
     },
     "execution_count": 16,
     "metadata": {},
     "output_type": "execute_result"
    }
   ],
   "source": [
    "# Normalize train and test sets for MLP\n",
    "from sklearn.preprocessing import MinMaxScaler\n",
    "\n",
    "# TANH activation\n",
    "scaler = MinMaxScaler(feature_range=(-1,1))\n",
    "\n",
    "x_train = scaler.fit_transform(x_train)\n",
    "x_test = scaler.transform(x_test)\n",
    "x_train"
   ]
  },
  {
   "attachments": {},
   "cell_type": "markdown",
   "id": "2014bc24",
   "metadata": {},
   "source": [
    "# Part 5: MLP Training and Testing\n",
    "\n",
    "\n"
   ]
  },
  {
   "cell_type": "code",
   "execution_count": 17,
   "id": "f47fb1a5",
   "metadata": {},
   "outputs": [
    {
     "data": {
      "text/html": [
       "<style>#sk-container-id-3 {color: black;background-color: white;}#sk-container-id-3 pre{padding: 0;}#sk-container-id-3 div.sk-toggleable {background-color: white;}#sk-container-id-3 label.sk-toggleable__label {cursor: pointer;display: block;width: 100%;margin-bottom: 0;padding: 0.3em;box-sizing: border-box;text-align: center;}#sk-container-id-3 label.sk-toggleable__label-arrow:before {content: \"▸\";float: left;margin-right: 0.25em;color: #696969;}#sk-container-id-3 label.sk-toggleable__label-arrow:hover:before {color: black;}#sk-container-id-3 div.sk-estimator:hover label.sk-toggleable__label-arrow:before {color: black;}#sk-container-id-3 div.sk-toggleable__content {max-height: 0;max-width: 0;overflow: hidden;text-align: left;background-color: #f0f8ff;}#sk-container-id-3 div.sk-toggleable__content pre {margin: 0.2em;color: black;border-radius: 0.25em;background-color: #f0f8ff;}#sk-container-id-3 input.sk-toggleable__control:checked~div.sk-toggleable__content {max-height: 200px;max-width: 100%;overflow: auto;}#sk-container-id-3 input.sk-toggleable__control:checked~label.sk-toggleable__label-arrow:before {content: \"▾\";}#sk-container-id-3 div.sk-estimator input.sk-toggleable__control:checked~label.sk-toggleable__label {background-color: #d4ebff;}#sk-container-id-3 div.sk-label input.sk-toggleable__control:checked~label.sk-toggleable__label {background-color: #d4ebff;}#sk-container-id-3 input.sk-hidden--visually {border: 0;clip: rect(1px 1px 1px 1px);clip: rect(1px, 1px, 1px, 1px);height: 1px;margin: -1px;overflow: hidden;padding: 0;position: absolute;width: 1px;}#sk-container-id-3 div.sk-estimator {font-family: monospace;background-color: #f0f8ff;border: 1px dotted black;border-radius: 0.25em;box-sizing: border-box;margin-bottom: 0.5em;}#sk-container-id-3 div.sk-estimator:hover {background-color: #d4ebff;}#sk-container-id-3 div.sk-parallel-item::after {content: \"\";width: 100%;border-bottom: 1px solid gray;flex-grow: 1;}#sk-container-id-3 div.sk-label:hover label.sk-toggleable__label {background-color: #d4ebff;}#sk-container-id-3 div.sk-serial::before {content: \"\";position: absolute;border-left: 1px solid gray;box-sizing: border-box;top: 0;bottom: 0;left: 50%;z-index: 0;}#sk-container-id-3 div.sk-serial {display: flex;flex-direction: column;align-items: center;background-color: white;padding-right: 0.2em;padding-left: 0.2em;position: relative;}#sk-container-id-3 div.sk-item {position: relative;z-index: 1;}#sk-container-id-3 div.sk-parallel {display: flex;align-items: stretch;justify-content: center;background-color: white;position: relative;}#sk-container-id-3 div.sk-item::before, #sk-container-id-3 div.sk-parallel-item::before {content: \"\";position: absolute;border-left: 1px solid gray;box-sizing: border-box;top: 0;bottom: 0;left: 50%;z-index: -1;}#sk-container-id-3 div.sk-parallel-item {display: flex;flex-direction: column;z-index: 1;position: relative;background-color: white;}#sk-container-id-3 div.sk-parallel-item:first-child::after {align-self: flex-end;width: 50%;}#sk-container-id-3 div.sk-parallel-item:last-child::after {align-self: flex-start;width: 50%;}#sk-container-id-3 div.sk-parallel-item:only-child::after {width: 0;}#sk-container-id-3 div.sk-dashed-wrapped {border: 1px dashed gray;margin: 0 0.4em 0.5em 0.4em;box-sizing: border-box;padding-bottom: 0.4em;background-color: white;}#sk-container-id-3 div.sk-label label {font-family: monospace;font-weight: bold;display: inline-block;line-height: 1.2em;}#sk-container-id-3 div.sk-label-container {text-align: center;}#sk-container-id-3 div.sk-container {/* jupyter's `normalize.less` sets `[hidden] { display: none; }` but bootstrap.min.css set `[hidden] { display: none !important; }` so we also need the `!important` here to be able to override the default hidden behavior on the sphinx rendered scikit-learn.org. See: https://github.com/scikit-learn/scikit-learn/issues/21755 */display: inline-block !important;position: relative;}#sk-container-id-3 div.sk-text-repr-fallback {display: none;}</style><div id=\"sk-container-id-3\" class=\"sk-top-container\"><div class=\"sk-text-repr-fallback\"><pre>MLPClassifier(activation=&#x27;tanh&#x27;, max_iter=2000)</pre><b>In a Jupyter environment, please rerun this cell to show the HTML representation or trust the notebook. <br />On GitHub, the HTML representation is unable to render, please try loading this page with nbviewer.org.</b></div><div class=\"sk-container\" hidden><div class=\"sk-item\"><div class=\"sk-estimator sk-toggleable\"><input class=\"sk-toggleable__control sk-hidden--visually\" id=\"sk-estimator-id-5\" type=\"checkbox\" checked><label for=\"sk-estimator-id-5\" class=\"sk-toggleable__label sk-toggleable__label-arrow\">MLPClassifier</label><div class=\"sk-toggleable__content\"><pre>MLPClassifier(activation=&#x27;tanh&#x27;, max_iter=2000)</pre></div></div></div></div></div>"
      ],
      "text/plain": [
       "MLPClassifier(activation='tanh', max_iter=2000)"
      ]
     },
     "execution_count": 17,
     "metadata": {},
     "output_type": "execute_result"
    }
   ],
   "source": [
    "from sklearn.neural_network import MLPClassifier\n",
    "\n",
    "# Set a seed for data reproducibility\n",
    "np.random.seed(3122)\n",
    "\n",
    "mlp = MLPClassifier(max_iter=2000, activation='tanh')\n",
    "mlp.fit(x_train,y_train)"
   ]
  },
  {
   "attachments": {},
   "cell_type": "markdown",
   "id": "4cb6dc71",
   "metadata": {},
   "source": [
    "##### We can improve the model by utilizing hyperparameter tuning with GridSearchCV. We initially used a list of values for the hyperparameters, and took note of the best values for each one, in order to avoid iterating all over again. This is to save time."
   ]
  },
  {
   "cell_type": "code",
   "execution_count": 18,
   "id": "e41d5d47",
   "metadata": {},
   "outputs": [
    {
     "data": {
      "text/html": [
       "<style>#sk-container-id-4 {color: black;background-color: white;}#sk-container-id-4 pre{padding: 0;}#sk-container-id-4 div.sk-toggleable {background-color: white;}#sk-container-id-4 label.sk-toggleable__label {cursor: pointer;display: block;width: 100%;margin-bottom: 0;padding: 0.3em;box-sizing: border-box;text-align: center;}#sk-container-id-4 label.sk-toggleable__label-arrow:before {content: \"▸\";float: left;margin-right: 0.25em;color: #696969;}#sk-container-id-4 label.sk-toggleable__label-arrow:hover:before {color: black;}#sk-container-id-4 div.sk-estimator:hover label.sk-toggleable__label-arrow:before {color: black;}#sk-container-id-4 div.sk-toggleable__content {max-height: 0;max-width: 0;overflow: hidden;text-align: left;background-color: #f0f8ff;}#sk-container-id-4 div.sk-toggleable__content pre {margin: 0.2em;color: black;border-radius: 0.25em;background-color: #f0f8ff;}#sk-container-id-4 input.sk-toggleable__control:checked~div.sk-toggleable__content {max-height: 200px;max-width: 100%;overflow: auto;}#sk-container-id-4 input.sk-toggleable__control:checked~label.sk-toggleable__label-arrow:before {content: \"▾\";}#sk-container-id-4 div.sk-estimator input.sk-toggleable__control:checked~label.sk-toggleable__label {background-color: #d4ebff;}#sk-container-id-4 div.sk-label input.sk-toggleable__control:checked~label.sk-toggleable__label {background-color: #d4ebff;}#sk-container-id-4 input.sk-hidden--visually {border: 0;clip: rect(1px 1px 1px 1px);clip: rect(1px, 1px, 1px, 1px);height: 1px;margin: -1px;overflow: hidden;padding: 0;position: absolute;width: 1px;}#sk-container-id-4 div.sk-estimator {font-family: monospace;background-color: #f0f8ff;border: 1px dotted black;border-radius: 0.25em;box-sizing: border-box;margin-bottom: 0.5em;}#sk-container-id-4 div.sk-estimator:hover {background-color: #d4ebff;}#sk-container-id-4 div.sk-parallel-item::after {content: \"\";width: 100%;border-bottom: 1px solid gray;flex-grow: 1;}#sk-container-id-4 div.sk-label:hover label.sk-toggleable__label {background-color: #d4ebff;}#sk-container-id-4 div.sk-serial::before {content: \"\";position: absolute;border-left: 1px solid gray;box-sizing: border-box;top: 0;bottom: 0;left: 50%;z-index: 0;}#sk-container-id-4 div.sk-serial {display: flex;flex-direction: column;align-items: center;background-color: white;padding-right: 0.2em;padding-left: 0.2em;position: relative;}#sk-container-id-4 div.sk-item {position: relative;z-index: 1;}#sk-container-id-4 div.sk-parallel {display: flex;align-items: stretch;justify-content: center;background-color: white;position: relative;}#sk-container-id-4 div.sk-item::before, #sk-container-id-4 div.sk-parallel-item::before {content: \"\";position: absolute;border-left: 1px solid gray;box-sizing: border-box;top: 0;bottom: 0;left: 50%;z-index: -1;}#sk-container-id-4 div.sk-parallel-item {display: flex;flex-direction: column;z-index: 1;position: relative;background-color: white;}#sk-container-id-4 div.sk-parallel-item:first-child::after {align-self: flex-end;width: 50%;}#sk-container-id-4 div.sk-parallel-item:last-child::after {align-self: flex-start;width: 50%;}#sk-container-id-4 div.sk-parallel-item:only-child::after {width: 0;}#sk-container-id-4 div.sk-dashed-wrapped {border: 1px dashed gray;margin: 0 0.4em 0.5em 0.4em;box-sizing: border-box;padding-bottom: 0.4em;background-color: white;}#sk-container-id-4 div.sk-label label {font-family: monospace;font-weight: bold;display: inline-block;line-height: 1.2em;}#sk-container-id-4 div.sk-label-container {text-align: center;}#sk-container-id-4 div.sk-container {/* jupyter's `normalize.less` sets `[hidden] { display: none; }` but bootstrap.min.css set `[hidden] { display: none !important; }` so we also need the `!important` here to be able to override the default hidden behavior on the sphinx rendered scikit-learn.org. See: https://github.com/scikit-learn/scikit-learn/issues/21755 */display: inline-block !important;position: relative;}#sk-container-id-4 div.sk-text-repr-fallback {display: none;}</style><div id=\"sk-container-id-4\" class=\"sk-top-container\"><div class=\"sk-text-repr-fallback\"><pre>GridSearchCV(estimator=MLPClassifier(activation=&#x27;tanh&#x27;, max_iter=2000),\n",
       "             param_grid={&#x27;activation&#x27;: [&#x27;tanh&#x27;], &#x27;alpha&#x27;: [0.025],\n",
       "                         &#x27;hidden_layer_sizes&#x27;: [8],\n",
       "                         &#x27;learning_rate_init&#x27;: [0.005], &#x27;max_iter&#x27;: [20000]})</pre><b>In a Jupyter environment, please rerun this cell to show the HTML representation or trust the notebook. <br />On GitHub, the HTML representation is unable to render, please try loading this page with nbviewer.org.</b></div><div class=\"sk-container\" hidden><div class=\"sk-item sk-dashed-wrapped\"><div class=\"sk-label-container\"><div class=\"sk-label sk-toggleable\"><input class=\"sk-toggleable__control sk-hidden--visually\" id=\"sk-estimator-id-6\" type=\"checkbox\" ><label for=\"sk-estimator-id-6\" class=\"sk-toggleable__label sk-toggleable__label-arrow\">GridSearchCV</label><div class=\"sk-toggleable__content\"><pre>GridSearchCV(estimator=MLPClassifier(activation=&#x27;tanh&#x27;, max_iter=2000),\n",
       "             param_grid={&#x27;activation&#x27;: [&#x27;tanh&#x27;], &#x27;alpha&#x27;: [0.025],\n",
       "                         &#x27;hidden_layer_sizes&#x27;: [8],\n",
       "                         &#x27;learning_rate_init&#x27;: [0.005], &#x27;max_iter&#x27;: [20000]})</pre></div></div></div><div class=\"sk-parallel\"><div class=\"sk-parallel-item\"><div class=\"sk-item\"><div class=\"sk-label-container\"><div class=\"sk-label sk-toggleable\"><input class=\"sk-toggleable__control sk-hidden--visually\" id=\"sk-estimator-id-7\" type=\"checkbox\" ><label for=\"sk-estimator-id-7\" class=\"sk-toggleable__label sk-toggleable__label-arrow\">estimator: MLPClassifier</label><div class=\"sk-toggleable__content\"><pre>MLPClassifier(activation=&#x27;tanh&#x27;, max_iter=2000)</pre></div></div></div><div class=\"sk-serial\"><div class=\"sk-item\"><div class=\"sk-estimator sk-toggleable\"><input class=\"sk-toggleable__control sk-hidden--visually\" id=\"sk-estimator-id-8\" type=\"checkbox\" ><label for=\"sk-estimator-id-8\" class=\"sk-toggleable__label sk-toggleable__label-arrow\">MLPClassifier</label><div class=\"sk-toggleable__content\"><pre>MLPClassifier(activation=&#x27;tanh&#x27;, max_iter=2000)</pre></div></div></div></div></div></div></div></div></div></div>"
      ],
      "text/plain": [
       "GridSearchCV(estimator=MLPClassifier(activation='tanh', max_iter=2000),\n",
       "             param_grid={'activation': ['tanh'], 'alpha': [0.025],\n",
       "                         'hidden_layer_sizes': [8],\n",
       "                         'learning_rate_init': [0.005], 'max_iter': [20000]})"
      ]
     },
     "execution_count": 18,
     "metadata": {},
     "output_type": "execute_result"
    }
   ],
   "source": [
    "# Hypertune the parameters\n",
    "from sklearn.model_selection import GridSearchCV\n",
    "\n",
    "param_grid = {'hidden_layer_sizes': [8], 'max_iter': [20000], 'learning_rate_init': [0.005],'alpha':[0.025], 'activation': ['tanh'], } \n",
    "grid = GridSearchCV(mlp,param_grid,refit=True)\n",
    "grid.fit(x_train,y_train)"
   ]
  },
  {
   "attachments": {},
   "cell_type": "markdown",
   "id": "0d9b8f7f",
   "metadata": {},
   "source": [
    "# Part 6: Results and Discussion\n",
    "\n",
    "##### After the hyperparametrization, we can now predict our model and gauge its accuracy.\n",
    "\n"
   ]
  },
  {
   "cell_type": "code",
   "execution_count": 19,
   "id": "49bef284",
   "metadata": {
    "scrolled": true
   },
   "outputs": [
    {
     "name": "stdout",
     "output_type": "stream",
     "text": [
      "0.8715083798882681\n"
     ]
    }
   ],
   "source": [
    "from sklearn.metrics import accuracy_score\n",
    "\n",
    "grid_predictions = grid.predict(x_test)\n",
    "mlp_score = (accuracy_score(y_test, grid_predictions))\n",
    "print(mlp_score)"
   ]
  },
  {
   "attachments": {},
   "cell_type": "markdown",
   "id": "ed30375a",
   "metadata": {},
   "source": [
    "##### With this model, we have achieved a satisfactory accuracy in classifying student employability. We can display the classification report for further analysis."
   ]
  },
  {
   "cell_type": "code",
   "execution_count": 20,
   "id": "566084db",
   "metadata": {},
   "outputs": [
    {
     "name": "stdout",
     "output_type": "stream",
     "text": [
      "              precision    recall  f1-score   support\n",
      "\n",
      "           0       0.86      0.82      0.84       366\n",
      "           1       0.88      0.91      0.89       529\n",
      "\n",
      "    accuracy                           0.87       895\n",
      "   macro avg       0.87      0.86      0.87       895\n",
      "weighted avg       0.87      0.87      0.87       895\n",
      "\n"
     ]
    }
   ],
   "source": [
    "from sklearn.metrics import classification_report\n",
    "print(classification_report(y_test,grid_predictions))"
   ]
  },
  {
   "attachments": {},
   "cell_type": "markdown",
   "id": "3ca5b622",
   "metadata": {},
   "source": [
    "##### Based from the metrics of precision, recall, and f1-score, our model was able to provide sufficient results. The model was able to obtain a satisfactory percentage of correct predictions, was able to catch an adequate amount of positive cases, and was able to obtain a satisfactory percentage of positive predictions that were correct."
   ]
  },
  {
   "attachments": {},
   "cell_type": "markdown",
   "id": "fab53e7b",
   "metadata": {},
   "source": [
    "# Comparison with Other Models \n",
    "\n",
    "##### An existing study entitled 'Predicting Filipino Students' Employability Based on Mock Interview Results' can be found <a href=\"https://github.com/blurridge/ph-student-employability-ml/blob/main/src/student_employability_ml.ipynb\" target=\"_blank\">here</a>. It compares the accuracy of various models, namely, Logistic Regression, K-Nearest Neighbors Classification, and Support Vector Machines, in predicting student employability."
   ]
  },
  {
   "cell_type": "code",
   "execution_count": 21,
   "id": "93aec5c0",
   "metadata": {},
   "outputs": [],
   "source": [
    "# Load the accuracy scores from the other models.\n",
    "%store -r logreg_score\n",
    "%store -r knn_score\n",
    "%store -r svm_score\n",
    "%store -r svm_rbf_score\n",
    "\n"
   ]
  },
  {
   "attachments": {},
   "cell_type": "markdown",
   "id": "14ced1f6",
   "metadata": {},
   "source": [
    "##### Now that we have obtained the accuracy scores from the other models, we can see how well the MLP model performs."
   ]
  },
  {
   "cell_type": "code",
   "execution_count": 22,
   "id": "05f9075e",
   "metadata": {},
   "outputs": [
    {
     "data": {
      "image/png": "[encoded data removed]",
      "text/plain": [
       "<Figure size 800x600 with 1 Axes>"
      ]
     },
     "metadata": {},
     "output_type": "display_data"
    }
   ],
   "source": [
    "import matplotlib.pyplot as plt\n",
    "\n",
    "\n",
    "models = ['MLP', 'LogReg', 'KNN', 'SVM', 'SVM-RBF']\n",
    "accuracy_scores = [mlp_score, logreg_score, knn_score, svm_score, svm_rbf_score]  \n",
    "\n",
    "plt.figure(figsize=(8, 6))\n",
    "bars = plt.bar(models, accuracy_scores)\n",
    "plt.xlabel('Models')\n",
    "plt.ylabel('Accuracy')\n",
    "plt.title('Comparison of Model Accuracies')\n",
    "plt.ylim(0, 1) \n",
    "\n",
    "for bar, score in zip(bars, accuracy_scores):\n",
    "    yval = bar.get_height()\n",
    "    plt.text(bar.get_x() + bar.get_width() / 2, yval, str(score), ha='center', va='bottom')\n",
    "\n",
    "plt.show()\n"
   ]
  },
  {
   "attachments": {},
   "cell_type": "markdown",
   "id": "3264fca8",
   "metadata": {},
   "source": [
    "# Bonus: Saving and Loading the Model/Scaler\n",
    "\n",
    "##### We would be using this for the web app."
   ]
  },
  {
   "cell_type": "code",
   "execution_count": 23,
   "id": "1aedcdda",
   "metadata": {},
   "outputs": [
    {
     "name": "stdout",
     "output_type": "stream",
     "text": [
      "{'activation': 'tanh', 'alpha': 0.025, 'hidden_layer_sizes': 8, 'learning_rate_init': 0.005, 'max_iter': 20000}\n",
      "0.8715083798882681\n"
     ]
    }
   ],
   "source": [
    "import pickle\n",
    "\n",
    "# Save the model\n",
    "saved_model = 'best_MLP_model.sav'\n",
    "pickle.dump(grid, open(saved_model, 'wb'))\n",
    "\n",
    "# Save the scaler\n",
    "saved_scaler = 'best_scaler.sav'\n",
    "pickle.dump(scaler, open(saved_scaler, 'wb'))\n",
    "\n",
    "# Test if model works and predict again\n",
    "loaded_model = pickle.load(open(saved_model, 'rb'))\n",
    "print(loaded_model.best_params_)\n",
    "\n",
    "predict_again = loaded_model.predict(x_test)\n",
    "print(accuracy_score(y_test, predict_again))"
   ]
  }
 ],
 "metadata": {
  "kernelspec": {
   "display_name": "Python 3 (ipykernel)",
   "language": "python",
   "name": "python3"
  },
  "language_info": {
   "codemirror_mode": {
    "name": "ipython",
    "version": 3
   },
   "file_extension": ".py",
   "mimetype": "text/x-python",
   "name": "python",
   "nbconvert_exporter": "python",
   "pygments_lexer": "ipython3",
   "version": "3.10.4"
  },
  "vscode": {
   "interpreter": {
    "hash": "5238573367df39f7286bb46f9ff5f08f63a01a80960060ce41e3c79b190280fa"
   }
  }
 },
 "nbformat": 4,
 "nbformat_minor": 5
}
