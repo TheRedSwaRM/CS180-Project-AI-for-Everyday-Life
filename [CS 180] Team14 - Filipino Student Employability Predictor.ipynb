{
 "cells": [
  {
   "cell_type": "code",
   "execution_count": 3,
   "id": "eeebe5e4",
   "metadata": {},
   "outputs": [],
   "source": [
    "###Filipino Student Employability Predictor###"
   ]
  },
  {
   "cell_type": "code",
   "execution_count": 5,
   "id": "e1306d0c",
   "metadata": {},
   "outputs": [],
   "source": [
    "#Import dataset and libraries here"
   ]
  },
  {
   "cell_type": "code",
   "execution_count": 6,
   "id": "1c376f92",
   "metadata": {},
   "outputs": [],
   "source": [
    "#Preprocess/prepare dataset for training and testing here"
   ]
  },
  {
   "cell_type": "code",
   "execution_count": 7,
   "id": "6492b96a",
   "metadata": {},
   "outputs": [],
   "source": [
    "#Normalize train and test sets for MLP"
   ]
  },
  {
   "cell_type": "code",
   "execution_count": 8,
   "id": "a7b9de12",
   "metadata": {},
   "outputs": [],
   "source": [
    "#Fit and hyperparametrize model here"
   ]
  },
  {
   "cell_type": "code",
   "execution_count": 9,
   "id": "325ddf36",
   "metadata": {},
   "outputs": [],
   "source": [
    "#Predict and display statistics of model here "
   ]
  },
  {
   "cell_type": "code",
   "execution_count": null,
   "id": "9bdc5fd3",
   "metadata": {},
   "outputs": [],
   "source": []
  }
 ],
 "metadata": {
  "kernelspec": {
   "display_name": "Python 3 (ipykernel)",
   "language": "python",
   "name": "python3"
  },
  "language_info": {
   "codemirror_mode": {
    "name": "ipython",
    "version": 3
   },
   "file_extension": ".py",
   "mimetype": "text/x-python",
   "name": "python",
   "nbconvert_exporter": "python",
   "pygments_lexer": "ipython3",
   "version": "3.10.9"
  }
 },
 "nbformat": 4,
 "nbformat_minor": 5
}
